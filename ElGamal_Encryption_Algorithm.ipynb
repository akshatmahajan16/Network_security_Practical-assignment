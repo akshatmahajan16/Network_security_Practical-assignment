{
  "nbformat": 4,
  "nbformat_minor": 0,
  "metadata": {
    "colab": {
      "name": "ElGamal Encryption Algorithm.ipynb",
      "provenance": []
    },
    "kernelspec": {
      "name": "python3",
      "display_name": "Python 3"
    },
    "language_info": {
      "name": "python"
    }
  },
  "cells": [
    {
      "cell_type": "code",
      "execution_count": 2,
      "metadata": {
        "id": "ljZtpeI7jLpJ"
      },
      "outputs": [],
      "source": [
        "import random\n",
        "from math import pow"
      ]
    },
    {
      "cell_type": "code",
      "source": [
        "a = random.randint(2, 11)"
      ],
      "metadata": {
        "id": "lfm884qTjNSC"
      },
      "execution_count": 3,
      "outputs": []
    },
    {
      "cell_type": "code",
      "source": [
        "def gcd(a, b):\n",
        "    if a < b:\n",
        "        return gcd(b, a)\n",
        "    elif a % b == 0:\n",
        "        return b;\n",
        "    else:\n",
        "        return gcd(b, a % b)"
      ],
      "metadata": {
        "id": "14Ve94ILjSmT"
      },
      "execution_count": 4,
      "outputs": []
    },
    {
      "cell_type": "code",
      "source": [
        "def generate_key(q):\n",
        " \n",
        "    key = random.randint(pow(10, 20), q)\n",
        "    while gcd(q, key) != 1:\n",
        "        key = random.randint(pow(10, 20), q)\n",
        " \n",
        "    return key"
      ],
      "metadata": {
        "id": "RRQf1doPjWqJ"
      },
      "execution_count": 5,
      "outputs": []
    },
    {
      "cell_type": "code",
      "source": [
        "def power(a, b, c):\n",
        "    x = 1\n",
        "    y = a\n",
        " \n",
        "    while b > 0:\n",
        "        if b % 2 != 0:\n",
        "            x = (x * y) % c;\n",
        "        y = (y * y) % c\n",
        "        b = int(b / 2)\n",
        " \n",
        "    return x % c"
      ],
      "metadata": {
        "id": "uggS8mP0jac5"
      },
      "execution_count": 6,
      "outputs": []
    },
    {
      "cell_type": "code",
      "source": [
        "def encrypt(msg, q, h, g):\n",
        " \n",
        "    en_msg = []\n",
        " \n",
        "    k = generate_key(q)# Private key for sender\n",
        "    s = power(h, k, q)\n",
        "    p = power(g, k, q)\n",
        "     \n",
        "    for i in range(0, len(msg)):\n",
        "        en_msg.append(msg[i])\n",
        " \n",
        "    print(\"g^k used : \", p)\n",
        "    print(\"g^ak used : \", s)\n",
        "    for i in range(0, len(en_msg)):\n",
        "        en_msg[i] = s * ord(en_msg[i])\n",
        " \n",
        "    return en_msg, p"
      ],
      "metadata": {
        "id": "zCu2gBQFjdUJ"
      },
      "execution_count": 7,
      "outputs": []
    },
    {
      "cell_type": "code",
      "source": [
        "def decrypt(en_msg, p, key, q):\n",
        " \n",
        "    dr_msg = []\n",
        "    h = power(p, key, q)\n",
        "    for i in range(0, len(en_msg)):\n",
        "        dr_msg.append(chr(int(en_msg[i]/h)))\n",
        "         \n",
        "    return dr_msg"
      ],
      "metadata": {
        "id": "iSPG-xt0jgfT"
      },
      "execution_count": 8,
      "outputs": []
    },
    {
      "cell_type": "code",
      "source": [
        "def main():\n",
        " \n",
        "    msg = 'FintechRevolution'\n",
        "    print(\"Original Message :\", msg)\n",
        " \n",
        "    q = random.randint(pow(10, 20), pow(10, 50))\n",
        "    g = random.randint(2, q)\n",
        " \n",
        "    key = generate_key(q)# Private key for receiver\n",
        "    h = power(g, key, q)\n",
        "    print(\"g used : \", g)\n",
        "    print(\"g^a used : \", h)\n",
        " \n",
        "    encrypted_msg, p = encrypt(msg, q, h, g)\n",
        "    decrypted_msg = decrypt(encrypted_msg, p, key, q)\n",
        "    dmsg = ''.join(decrypted_msg)\n",
        "    print(\"Decrypted Message :\", dmsg);"
      ],
      "metadata": {
        "id": "3zt2YgoNjorU"
      },
      "execution_count": 9,
      "outputs": []
    },
    {
      "cell_type": "code",
      "source": [
        "if __name__ == '__main__':\n",
        "    main()"
      ],
      "metadata": {
        "colab": {
          "base_uri": "https://localhost:8080/"
        },
        "id": "Tqe-ciCajrTQ",
        "outputId": "d99ba9e2-7509-4314-d5c8-b65ce1294913"
      },
      "execution_count": 10,
      "outputs": [
        {
          "output_type": "stream",
          "name": "stdout",
          "text": [
            "Original Message : FintechRevolution\n",
            "g used :  24726249335242994940264439082010008789718677766363\n",
            "g^a used :  92923543880657820325175694433290072772976650840419\n",
            "g^k used :  50674227558420974660053915471745028224866151841903\n",
            "g^ak used :  31952300773020425428478615405243231259192519618379\n",
            "Decrypted Message : FintechRevolution\n"
          ]
        }
      ]
    }
  ]
}