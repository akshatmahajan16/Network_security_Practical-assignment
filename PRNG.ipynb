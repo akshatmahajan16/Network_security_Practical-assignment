{
  "nbformat": 4,
  "nbformat_minor": 0,
  "metadata": {
    "colab": {
      "name": "PRNG.ipynb",
      "provenance": []
    },
    "kernelspec": {
      "name": "python3",
      "display_name": "Python 3"
    },
    "language_info": {
      "name": "python"
    }
  },
  "cells": [
    {
      "cell_type": "markdown",
      "source": [
        "***Linear Congruential Method***"
      ],
      "metadata": {
        "id": "kVmvkM4Uwlzy"
      }
    },
    {
      "cell_type": "code",
      "execution_count": 7,
      "metadata": {
        "id": "2k8pNx7Nugc9"
      },
      "outputs": [],
      "source": [
        "def linearCongruentialMethod(Xo, m, a, c,\n",
        "                             randomNums,\n",
        "                             noOfRandomNums):\n",
        " \n",
        "    # Initializing the seed state\n",
        "    randomNums[0] = Xo\n",
        " \n",
        "    # Traverse to generate required\n",
        "    # numbers of random numbers\n",
        "    for i in range(1, noOfRandomNums):\n",
        "         \n",
        "        # linear congruential method\n",
        "        randomNums[i] = ((randomNums[i - 1] * a) +\n",
        "                                         c) % m"
      ]
    },
    {
      "cell_type": "code",
      "source": [
        "if __name__ == '__main__':\n",
        "     \n",
        "    # Seed value\n",
        "    Xo = 5\n",
        "     \n",
        "    # Modulus parameter\n",
        "    m = 8\n",
        "     \n",
        "    # Multiplier term\n",
        "    a = 5\n",
        "     \n",
        "    # Increment term\n",
        "    c = 3\n",
        " \n",
        "    # Number of Random numbers\n",
        "    # to be generated\n",
        "    noOfRandomNums = 20\n",
        " \n",
        "    # To store random numbers\n",
        "    randomNums = [0] * (noOfRandomNums)\n",
        " \n",
        "    # Function Call\n",
        "    linearCongruentialMethod(Xo, m, a, c,\n",
        "                             randomNums,\n",
        "                             noOfRandomNums)\n",
        " \n",
        "    # Print the generated random numbers\n",
        "    for i in randomNums:\n",
        "        print(i, end = \" \")"
      ],
      "metadata": {
        "colab": {
          "base_uri": "https://localhost:8080/"
        },
        "id": "sFJeDtf-wG4T",
        "outputId": "9132353b-4c33-4778-b747-fa3f21dd1592"
      },
      "execution_count": 8,
      "outputs": [
        {
          "output_type": "stream",
          "name": "stdout",
          "text": [
            "5 4 7 6 1 0 3 2 5 4 7 6 1 0 3 2 5 4 7 6 "
          ]
        }
      ]
    },
    {
      "cell_type": "markdown",
      "source": [
        "***Additive Congruence method***"
      ],
      "metadata": {
        "id": "BoOrZVZVw_yY"
      }
    },
    {
      "cell_type": "code",
      "source": [
        "def additiveCongruentialMethod(Xo, m, c,\n",
        "                               randomNums,\n",
        "                               noOfRandomNums):\n",
        " \n",
        "    # Initialize the seed state\n",
        "    randomNums[0] = Xo\n",
        " \n",
        "    # Traverse to generate required\n",
        "    # numbers of random numbers\n",
        "    for i in range(1, noOfRandomNums):\n",
        "         \n",
        "        # Follow the linear congruential method\n",
        "        randomNums[i] = (randomNums[i - 1] + c) % m"
      ],
      "metadata": {
        "id": "9uqYyX0hw-Kv"
      },
      "execution_count": 9,
      "outputs": []
    },
    {
      "cell_type": "code",
      "source": [
        "if __name__ == '__main__':\n",
        "     \n",
        "    # Seed value\n",
        "    Xo = 3\n",
        "     \n",
        "    # Modulus parameter\n",
        "    m = 20\n",
        "     \n",
        "    # Multiplier term\n",
        "    c = 2\n",
        " \n",
        "    # Number of Random numbers\n",
        "    # to be generated\n",
        "    noOfRandomNums = 15\n",
        " \n",
        "    # To store random numbers\n",
        "    randomNums=[0] * (noOfRandomNums)\n",
        " \n",
        "    # Function Call\n",
        "    additiveCongruentialMethod(Xo, m, c,\n",
        "                               randomNums,\n",
        "                               noOfRandomNums)\n",
        " \n",
        "    # Print the generated random numbers\n",
        "    for i in randomNums:\n",
        "        print(i, end = \" \")"
      ],
      "metadata": {
        "colab": {
          "base_uri": "https://localhost:8080/"
        },
        "id": "-4ixOsf6w-Wg",
        "outputId": "c4c590c0-9889-46fc-e1f6-3a7da7915c2c"
      },
      "execution_count": 10,
      "outputs": [
        {
          "output_type": "stream",
          "name": "stdout",
          "text": [
            "3 5 7 9 11 13 15 17 19 1 3 5 7 9 11 "
          ]
        }
      ]
    }
  ]
}